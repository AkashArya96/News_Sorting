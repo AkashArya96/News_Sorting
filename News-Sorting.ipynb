{
 "cells": [
  {
   "cell_type": "code",
   "execution_count": 1,
   "id": "8c0aa211",
   "metadata": {},
   "outputs": [
    {
     "name": "stderr",
     "output_type": "stream",
     "text": [
      "<frozen importlib._bootstrap>:228: RuntimeWarning: scipy._lib.messagestream.MessageStream size changed, may indicate binary incompatibility. Expected 56 from C header, got 64 from PyObject\n"
     ]
    }
   ],
   "source": [
    "import pandas as pd\n",
    "import matplotlib.pyplot as plt\n",
    "import tensorflow as tf\n",
    "import nltk\n",
    "import sklearn\n",
    "\n",
    "from tensorflow import keras\n",
    "from keras.preprocessing.text import text_to_word_sequence\n",
    "from nltk.corpus import stopwords\n",
    "from nltk.stem import WordNetLemmatizer,PorterStemmer\n",
    "from nltk.corpus import wordnet\n",
    "from sklearn.feature_extraction.text import TfidfVectorizer, TfidfTransformer, CountVectorizer\n",
    "\n",
    "\n",
    "from sklearn.model_selection import train_test_split\n",
    "from sklearn.naive_bayes import MultinomialNB\n",
    "from sklearn.naive_bayes import GaussianNB\n",
    "from sklearn.pipeline import Pipeline\n",
    "from sklearn.metrics import accuracy_score ,roc_auc_score , classification_report"
   ]
  },
  {
   "cell_type": "code",
   "execution_count": 2,
   "id": "94cf07e3",
   "metadata": {},
   "outputs": [],
   "source": [
    "df = pd.read_csv('BBC News Train.csv')\n",
    "test_set = pd.read_csv('BBC News Test.csv')"
   ]
  },
  {
   "cell_type": "code",
   "execution_count": 3,
   "id": "2834d894",
   "metadata": {},
   "outputs": [
    {
     "data": {
      "text/html": [
       "<div>\n",
       "<style scoped>\n",
       "    .dataframe tbody tr th:only-of-type {\n",
       "        vertical-align: middle;\n",
       "    }\n",
       "\n",
       "    .dataframe tbody tr th {\n",
       "        vertical-align: top;\n",
       "    }\n",
       "\n",
       "    .dataframe thead th {\n",
       "        text-align: right;\n",
       "    }\n",
       "</style>\n",
       "<table border=\"1\" class=\"dataframe\">\n",
       "  <thead>\n",
       "    <tr style=\"text-align: right;\">\n",
       "      <th></th>\n",
       "      <th>ArticleId</th>\n",
       "      <th>Text</th>\n",
       "      <th>Category</th>\n",
       "    </tr>\n",
       "  </thead>\n",
       "  <tbody>\n",
       "    <tr>\n",
       "      <th>0</th>\n",
       "      <td>1833</td>\n",
       "      <td>worldcom ex-boss launches defence lawyers defe...</td>\n",
       "      <td>business</td>\n",
       "    </tr>\n",
       "    <tr>\n",
       "      <th>1</th>\n",
       "      <td>154</td>\n",
       "      <td>german business confidence slides german busin...</td>\n",
       "      <td>business</td>\n",
       "    </tr>\n",
       "    <tr>\n",
       "      <th>2</th>\n",
       "      <td>1101</td>\n",
       "      <td>bbc poll indicates economic gloom citizens in ...</td>\n",
       "      <td>business</td>\n",
       "    </tr>\n",
       "    <tr>\n",
       "      <th>3</th>\n",
       "      <td>1976</td>\n",
       "      <td>lifestyle  governs mobile choice  faster  bett...</td>\n",
       "      <td>tech</td>\n",
       "    </tr>\n",
       "    <tr>\n",
       "      <th>4</th>\n",
       "      <td>917</td>\n",
       "      <td>enron bosses in $168m payout eighteen former e...</td>\n",
       "      <td>business</td>\n",
       "    </tr>\n",
       "  </tbody>\n",
       "</table>\n",
       "</div>"
      ],
      "text/plain": [
       "   ArticleId                                               Text  Category\n",
       "0       1833  worldcom ex-boss launches defence lawyers defe...  business\n",
       "1        154  german business confidence slides german busin...  business\n",
       "2       1101  bbc poll indicates economic gloom citizens in ...  business\n",
       "3       1976  lifestyle  governs mobile choice  faster  bett...      tech\n",
       "4        917  enron bosses in $168m payout eighteen former e...  business"
      ]
     },
     "execution_count": 3,
     "metadata": {},
     "output_type": "execute_result"
    }
   ],
   "source": [
    "df.head()"
   ]
  },
  {
   "cell_type": "markdown",
   "id": "f85794f0",
   "metadata": {},
   "source": [
    "# Data Visualization"
   ]
  },
  {
   "cell_type": "code",
   "execution_count": 4,
   "id": "4a7bf8a0",
   "metadata": {},
   "outputs": [
    {
     "data": {
      "text/plain": [
       "<AxesSubplot:xlabel='Category', ylabel='count'>"
      ]
     },
     "execution_count": 4,
     "metadata": {},
     "output_type": "execute_result"
    },
    {
     "data": {
      "image/png": "[encoded data removed]",
      "text/plain": [
       "<Figure size 640x480 with 1 Axes>"
      ]
     },
     "metadata": {},
     "output_type": "display_data"
    }
   ],
   "source": [
    "import seaborn as sns\n",
    "sns.countplot(x='Category',data=df)"
   ]
  },
  {
   "cell_type": "code",
   "execution_count": 5,
   "id": "6db22079",
   "metadata": {},
   "outputs": [
    {
     "data": {
      "text/plain": [
       "0    worldcom ex-boss launches defence lawyers defe...\n",
       "1    german business confidence slides german busin...\n",
       "2    bbc poll indicates economic gloom citizens in ...\n",
       "3    lifestyle  governs mobile choice  faster  bett...\n",
       "4    enron bosses in $168m payout eighteen former e...\n",
       "Name: Text, dtype: object"
      ]
     },
     "execution_count": 5,
     "metadata": {},
     "output_type": "execute_result"
    }
   ],
   "source": [
    "text = df['Text']\n",
    "text.head()"
   ]
  },
  {
   "cell_type": "markdown",
   "id": "e9930709",
   "metadata": {},
   "source": [
    "# Data Preprocessing"
   ]
  },
  {
   "cell_type": "code",
   "execution_count": 8,
   "id": "4f664e29",
   "metadata": {},
   "outputs": [],
   "source": [
    "def preprocessDataset(train_text):\n",
    "#     Word Tokeniztion using text-to-word-sequence\n",
    "    train_text = str(train_text)\n",
    "    tokenized_train_set = text_to_word_sequence(train_text,filters='!\"#$%&()*+,-./:;<=>?@[\\\\]^_`{|}~\\t\\n',lower=True,split=\" \")\n",
    "    \n",
    "#     stopword removal\n",
    "    stop_words = set(stopwords.words('english'))\n",
    "    stopwordremove = [i for i in tokenized_train_set if not i in stop_words]\n",
    "    \n",
    "#     join words into sentence\n",
    "    stopwordremove_text = ' '.join(stopwordremove)\n",
    "    \n",
    "#     remove numbers\n",
    "    numberremove_text = ''.join(c for c in stopwordremove_text if not c.isdigit())\n",
    "    \n",
    "#     Stemming\n",
    "    stemmer = PorterStemmer()\n",
    "    \n",
    "    stem_input = nltk.word_tokenize(numberremove_text)\n",
    "    stem_text = ' '.join([stemmer.stem(word) for word in stem_input])\n",
    "    \n",
    "    lemmatizer = WordNetLemmatizer()\n",
    "    def get_wordnet_pos(word):\n",
    "\n",
    "        tag = nltk.pos_tag([word])[0][1][0].upper()\n",
    "        tag_dict = {\"J\": wordnet.ADJ,\n",
    "                \"N\": wordnet.NOUN,\n",
    "                \"V\": wordnet.VERB,\n",
    "                \"R\": wordnet.ADV}\n",
    "\n",
    "        return tag_dict.get(tag, wordnet.NOUN)\n",
    "\n",
    "    lem_input = nltk.word_tokenize(stem_text)\n",
    "    lem_text= ' '.join([lemmatizer.lemmatize(w, get_wordnet_pos(w)) for w in lem_input])\n",
    "        \n",
    "    return lem_text"
   ]
  },
  {
   "cell_type": "code",
   "execution_count": 10,
   "id": "d69c4557",
   "metadata": {},
   "outputs": [
    {
     "name": "stderr",
     "output_type": "stream",
     "text": [
      "[nltk_data] Downloading package averaged_perceptron_tagger to\n",
      "[nltk_data]     C:\\Users\\aakas\\AppData\\Roaming\\nltk_data...\n",
      "[nltk_data]   Unzipping taggers\\averaged_perceptron_tagger.zip.\n"
     ]
    },
    {
     "data": {
      "text/plain": [
       "True"
      ]
     },
     "execution_count": 10,
     "metadata": {},
     "output_type": "execute_result"
    }
   ],
   "source": [
    "nltk.download('averaged_perceptron_tagger')"
   ]
  },
  {
   "cell_type": "code",
   "execution_count": 11,
   "id": "495f14f5",
   "metadata": {},
   "outputs": [
    {
     "data": {
      "text/plain": [
       "0    worldcom ex bos launch defenc lawyer defend fo...\n",
       "1    german busi confid slide german busi confid fe...\n",
       "2    bbc poll indic econom gloom citizen major nati...\n",
       "3    lifestyl govern mobil choic faster well funkie...\n",
       "4    enron bos m payout eighteen former enron direc...\n",
       "Name: Text, dtype: object"
      ]
     },
     "execution_count": 11,
     "metadata": {},
     "output_type": "execute_result"
    }
   ],
   "source": [
    "df['Text'] = df['Text'].apply(preprocessDataset)\n",
    "text = df['Text']\n",
    "category = df['Category']\n",
    "text.head()"
   ]
  },
  {
   "cell_type": "code",
   "execution_count": 12,
   "id": "4a824489",
   "metadata": {},
   "outputs": [],
   "source": [
    "X_train, X_test, y_train, y_test = train_test_split(text,category, test_size=0.3,shuffle=True,random_state=60,stratify=category)"
   ]
  },
  {
   "cell_type": "code",
   "execution_count": 13,
   "id": "49b2de24",
   "metadata": {},
   "outputs": [
    {
     "name": "stdout",
     "output_type": "stream",
     "text": [
      "1043\n",
      "447\n"
     ]
    }
   ],
   "source": [
    "print(len(X_train))\n",
    "print(len(X_test))"
   ]
  },
  {
   "cell_type": "code",
   "execution_count": 14,
   "id": "1179dc23",
   "metadata": {},
   "outputs": [
    {
     "data": {
      "text/plain": [
       "958     broadband uk grow fast high speed net connect ...\n",
       "43      viewer abl shape tv imagin edit titan watch fa...\n",
       "141     verizon seal takeov mci verizon takeov battl u...\n",
       "421     bet big brother leak bookmak stop take bet cel...\n",
       "1004    ferguson put faith youngster manchest unit man...\n",
       "                              ...                        \n",
       "1138    mix signal french economi french economi pick ...\n",
       "516     safin cool wimbledon newli crown australian op...\n",
       "339     u duo first spam convict brother sister u conv...\n",
       "336     mcconnel detail scot wave toll least three peo...\n",
       "668     nadal march mexico rafael nadal continu run fi...\n",
       "Name: Text, Length: 1043, dtype: object"
      ]
     },
     "execution_count": 14,
     "metadata": {},
     "output_type": "execute_result"
    }
   ],
   "source": [
    "X_train"
   ]
  },
  {
   "cell_type": "code",
   "execution_count": 15,
   "id": "146d2bd5",
   "metadata": {},
   "outputs": [
    {
     "data": {
      "text/plain": [
       "1073             tech\n",
       "1062             tech\n",
       "122             sport\n",
       "487          business\n",
       "1236    entertainment\n",
       "            ...      \n",
       "765     entertainment\n",
       "186          business\n",
       "1292    entertainment\n",
       "1044         politics\n",
       "1190             tech\n",
       "Name: Category, Length: 447, dtype: object"
      ]
     },
     "execution_count": 15,
     "metadata": {},
     "output_type": "execute_result"
    }
   ],
   "source": [
    "y_test"
   ]
  },
  {
   "cell_type": "markdown",
   "id": "fc2db456",
   "metadata": {},
   "source": [
    "# Multinomial Naive Bayes"
   ]
  },
  {
   "cell_type": "code",
   "execution_count": 16,
   "id": "107870bf",
   "metadata": {},
   "outputs": [
    {
     "name": "stdout",
     "output_type": "stream",
     "text": [
      "Naive Bayes Train Accuracy Score : 99% \n",
      "Naive Bayes Test Accuracy Score  : 96% \n",
      "\n"
     ]
    }
   ],
   "source": [
    "nb = Pipeline([('tfidf',TfidfVectorizer()),\n",
    "              ('clf',MultinomialNB()),\n",
    "              ])\n",
    "nb.fit(X_train,y_train)\n",
    "\n",
    "test_predict = nb.predict(X_test)\n",
    "\n",
    "train_accuracy = round(nb.score(X_train,y_train)*100)\n",
    "test_accuracy =round(accuracy_score(test_predict,y_test)*100)\n",
    "\n",
    "print(\"Naive Bayes Train Accuracy Score : {}% \".format(train_accuracy ))\n",
    "print(\"Naive Bayes Test Accuracy Score  : {}% \".format(test_accuracy ))\n",
    "print()"
   ]
  },
  {
   "cell_type": "code",
   "execution_count": 17,
   "id": "df0da4c6",
   "metadata": {},
   "outputs": [
    {
     "name": "stdout",
     "output_type": "stream",
     "text": [
      "               precision    recall  f1-score   support\n",
      "\n",
      "     business       0.98      0.94      0.96       105\n",
      "         tech       0.93      1.00      0.96        76\n",
      "     politics       0.93      0.94      0.93        81\n",
      "        sport       1.00      0.98      0.99       106\n",
      "entertainment       0.96      0.95      0.96        79\n",
      "\n",
      "     accuracy                           0.96       447\n",
      "    macro avg       0.96      0.96      0.96       447\n",
      " weighted avg       0.96      0.96      0.96       447\n",
      "\n"
     ]
    }
   ],
   "source": [
    "target_category = df['Category'].unique()\n",
    "print(classification_report(test_predict, y_test, target_names=target_category))"
   ]
  },
  {
   "cell_type": "markdown",
   "id": "670f0eb2",
   "metadata": {},
   "source": [
    "# Pickle File"
   ]
  },
  {
   "cell_type": "code",
   "execution_count": 68,
   "id": "69a0985c",
   "metadata": {},
   "outputs": [],
   "source": [
    "import pickle\n",
    "filename = 'news article.pkl'\n",
    "pickle.dump(nb, open(filename, 'wb'))"
   ]
  },
  {
   "cell_type": "code",
   "execution_count": 18,
   "id": "277ca25c",
   "metadata": {},
   "outputs": [],
   "source": [
    "test_set['Text'] = test_set['Text'].apply(preprocessDataset)\n",
    "\n",
    "test_id = test_set['ArticleId']\n",
    "test_text = test_set['Text']\n",
    "y_prdict = nb.predict(test_text)"
   ]
  },
  {
   "cell_type": "code",
   "execution_count": 19,
   "id": "298800ce",
   "metadata": {},
   "outputs": [
    {
     "data": {
      "text/plain": [
       "array(['sport', 'tech', 'sport', 'business', 'sport', 'sport', 'politics',\n",
       "       'politics', 'entertainment', 'business', 'business', 'tech',\n",
       "       'politics', 'tech', 'entertainment', 'sport', 'politics', 'tech',\n",
       "       'entertainment', 'politics', 'business', 'politics', 'sport',\n",
       "       'business', 'politics', 'sport', 'business', 'sport', 'sport',\n",
       "       'business', 'politics', 'tech', 'business', 'business', 'sport',\n",
       "       'sport', 'sport', 'business', 'entertainment', 'politics', 'tech',\n",
       "       'politics', 'entertainment', 'tech', 'sport', 'tech',\n",
       "       'entertainment', 'business', 'politics', 'business', 'politics',\n",
       "       'business', 'business', 'business', 'tech', 'politics', 'tech',\n",
       "       'entertainment', 'sport', 'tech', 'sport', 'entertainment', 'tech',\n",
       "       'politics', 'business', 'entertainment', 'sport', 'tech', 'sport',\n",
       "       'sport', 'tech', 'sport', 'business', 'politics', 'tech', 'sport',\n",
       "       'tech', 'tech', 'tech', 'entertainment', 'politics', 'sport',\n",
       "       'entertainment', 'entertainment', 'business', 'entertainment',\n",
       "       'business', 'entertainment', 'business', 'tech', 'business',\n",
       "       'politics', 'sport', 'tech', 'sport', 'sport', 'sport', 'sport',\n",
       "       'sport', 'sport', 'politics', 'sport', 'politics', 'entertainment',\n",
       "       'business', 'sport', 'politics', 'sport', 'politics',\n",
       "       'entertainment', 'sport', 'business', 'entertainment', 'sport',\n",
       "       'politics', 'sport', 'politics', 'sport', 'politics', 'business',\n",
       "       'entertainment', 'business', 'entertainment', 'entertainment',\n",
       "       'tech', 'sport', 'business', 'entertainment', 'business',\n",
       "       'entertainment', 'business', 'politics', 'politics', 'tech',\n",
       "       'business', 'business', 'politics', 'tech', 'entertainment',\n",
       "       'sport', 'business', 'tech', 'sport', 'entertainment', 'politics',\n",
       "       'sport', 'sport', 'entertainment', 'entertainment', 'tech',\n",
       "       'business', 'tech', 'politics', 'entertainment', 'sport', 'sport',\n",
       "       'sport', 'sport', 'entertainment', 'tech', 'business', 'tech',\n",
       "       'business', 'tech', 'business', 'tech', 'entertainment', 'tech',\n",
       "       'tech', 'politics', 'business', 'politics', 'business', 'business',\n",
       "       'entertainment', 'politics', 'tech', 'business', 'business',\n",
       "       'tech', 'sport', 'politics', 'sport', 'politics', 'tech', 'tech',\n",
       "       'politics', 'business', 'politics', 'politics', 'politics',\n",
       "       'business', 'entertainment', 'sport', 'sport', 'tech', 'business',\n",
       "       'tech', 'politics', 'business', 'sport', 'politics', 'business',\n",
       "       'entertainment', 'business', 'business', 'sport', 'tech',\n",
       "       'business', 'sport', 'entertainment', 'entertainment', 'sport',\n",
       "       'entertainment', 'sport', 'tech', 'politics', 'entertainment',\n",
       "       'sport', 'entertainment', 'sport', 'entertainment', 'politics',\n",
       "       'business', 'tech', 'entertainment', 'business', 'politics',\n",
       "       'business', 'tech', 'business', 'sport', 'politics', 'politics',\n",
       "       'business', 'politics', 'sport', 'business', 'business',\n",
       "       'politics', 'sport', 'politics', 'business', 'sport', 'tech',\n",
       "       'business', 'politics', 'business', 'politics', 'business',\n",
       "       'business', 'sport', 'tech', 'politics', 'tech', 'tech',\n",
       "       'entertainment', 'tech', 'sport', 'sport', 'tech', 'sport',\n",
       "       'sport', 'sport', 'entertainment', 'sport', 'politics', 'tech',\n",
       "       'business', 'sport', 'business', 'sport', 'business', 'sport',\n",
       "       'entertainment', 'business', 'business', 'entertainment',\n",
       "       'politics', 'business', 'sport', 'sport', 'tech', 'sport', 'sport',\n",
       "       'entertainment', 'business', 'sport', 'tech', 'politics',\n",
       "       'entertainment', 'business', 'business', 'politics', 'sport',\n",
       "       'entertainment', 'politics', 'business', 'sport', 'sport', 'tech',\n",
       "       'entertainment', 'sport', 'business', 'tech', 'business', 'sport',\n",
       "       'politics', 'politics', 'entertainment', 'politics',\n",
       "       'entertainment', 'politics', 'business', 'politics', 'tech',\n",
       "       'business', 'sport', 'tech', 'entertainment', 'politics', 'sport',\n",
       "       'politics', 'politics', 'tech', 'politics', 'sport', 'tech',\n",
       "       'politics', 'tech', 'tech', 'entertainment', 'business', 'tech',\n",
       "       'politics', 'business', 'politics', 'sport', 'tech',\n",
       "       'entertainment', 'entertainment', 'business', 'sport', 'tech',\n",
       "       'tech', 'entertainment', 'tech', 'business', 'sport',\n",
       "       'entertainment', 'tech', 'business', 'politics', 'tech', 'tech',\n",
       "       'politics', 'politics', 'sport', 'business', 'tech', 'sport',\n",
       "       'politics', 'politics', 'business', 'tech', 'sport', 'politics',\n",
       "       'business', 'politics', 'politics', 'tech', 'entertainment',\n",
       "       'business', 'business', 'sport', 'sport', 'sport', 'tech', 'sport',\n",
       "       'politics', 'tech', 'tech', 'politics', 'business', 'sport',\n",
       "       'sport', 'entertainment', 'entertainment', 'sport', 'tech', 'tech',\n",
       "       'sport', 'tech', 'entertainment', 'politics', 'tech', 'sport',\n",
       "       'business', 'politics', 'entertainment', 'business', 'tech',\n",
       "       'sport', 'politics', 'business', 'business', 'politics', 'tech',\n",
       "       'sport', 'politics', 'business', 'tech', 'business', 'tech',\n",
       "       'sport', 'sport', 'politics', 'business', 'tech', 'sport',\n",
       "       'politics', 'business', 'tech', 'tech', 'politics', 'tech',\n",
       "       'business', 'politics', 'business', 'entertainment', 'business',\n",
       "       'entertainment', 'politics', 'entertainment', 'sport', 'business',\n",
       "       'politics', 'business', 'sport', 'entertainment', 'business',\n",
       "       'entertainment', 'entertainment', 'sport', 'tech', 'entertainment',\n",
       "       'tech', 'business', 'politics', 'entertainment', 'politics',\n",
       "       'politics', 'sport', 'business', 'sport', 'politics',\n",
       "       'entertainment', 'entertainment', 'business', 'business', 'sport',\n",
       "       'politics', 'tech', 'business', 'politics', 'business', 'sport',\n",
       "       'sport', 'politics', 'sport', 'tech', 'business', 'politics',\n",
       "       'sport', 'politics', 'tech', 'business', 'politics', 'tech',\n",
       "       'politics', 'politics', 'entertainment', 'tech', 'sport', 'sport',\n",
       "       'politics', 'business', 'tech', 'politics', 'sport', 'sport',\n",
       "       'entertainment', 'business', 'entertainment', 'entertainment',\n",
       "       'business', 'politics', 'sport', 'politics', 'tech', 'business',\n",
       "       'business', 'politics', 'sport', 'business', 'sport', 'business',\n",
       "       'politics', 'business', 'sport', 'politics', 'tech', 'sport',\n",
       "       'politics', 'business', 'tech', 'politics', 'sport', 'politics',\n",
       "       'entertainment', 'sport', 'politics', 'business', 'business',\n",
       "       'business', 'tech', 'politics', 'politics', 'sport', 'business',\n",
       "       'tech', 'tech', 'tech', 'sport', 'tech', 'politics', 'business',\n",
       "       'business', 'sport', 'business', 'politics', 'business', 'tech',\n",
       "       'tech', 'sport', 'tech', 'business', 'sport', 'business',\n",
       "       'business', 'business', 'politics', 'politics', 'entertainment',\n",
       "       'entertainment', 'entertainment', 'politics', 'tech', 'tech',\n",
       "       'politics', 'entertainment', 'business', 'sport', 'sport',\n",
       "       'politics', 'entertainment', 'politics', 'sport', 'business',\n",
       "       'business', 'business', 'entertainment', 'tech', 'sport',\n",
       "       'business', 'politics', 'politics', 'tech', 'politics', 'sport',\n",
       "       'politics', 'business', 'tech', 'business', 'sport', 'sport',\n",
       "       'tech', 'sport', 'entertainment', 'tech', 'politics', 'tech',\n",
       "       'sport', 'business', 'business', 'tech', 'tech', 'politics',\n",
       "       'entertainment', 'politics', 'business', 'business', 'tech',\n",
       "       'business', 'business', 'business', 'sport', 'entertainment',\n",
       "       'business', 'sport', 'business', 'sport', 'tech', 'business',\n",
       "       'politics', 'sport', 'business', 'sport', 'sport', 'entertainment',\n",
       "       'politics', 'tech', 'sport', 'business', 'sport', 'business',\n",
       "       'sport', 'sport', 'politics', 'tech', 'business', 'tech',\n",
       "       'business', 'sport', 'tech', 'business', 'entertainment',\n",
       "       'business', 'entertainment', 'sport', 'tech', 'business',\n",
       "       'business', 'business', 'politics', 'sport', 'entertainment',\n",
       "       'tech', 'business', 'sport', 'entertainment', 'business',\n",
       "       'entertainment', 'business', 'politics', 'sport', 'sport',\n",
       "       'business', 'tech', 'sport', 'business', 'business', 'business',\n",
       "       'entertainment', 'business', 'entertainment', 'tech', 'sport',\n",
       "       'politics', 'tech', 'politics', 'tech', 'sport', 'tech',\n",
       "       'entertainment', 'business', 'business', 'politics', 'politics',\n",
       "       'sport', 'sport', 'sport', 'entertainment', 'tech', 'politics',\n",
       "       'entertainment', 'sport', 'sport', 'politics', 'tech', 'politics',\n",
       "       'entertainment', 'sport', 'entertainment', 'sport', 'tech', 'tech',\n",
       "       'sport', 'sport', 'business', 'tech', 'entertainment', 'business',\n",
       "       'tech', 'business', 'business', 'sport', 'entertainment',\n",
       "       'politics', 'entertainment', 'business', 'politics', 'business',\n",
       "       'politics', 'sport', 'tech', 'tech', 'politics', 'entertainment',\n",
       "       'business', 'tech', 'entertainment', 'entertainment', 'politics',\n",
       "       'business', 'business', 'politics', 'politics', 'tech', 'sport',\n",
       "       'business', 'entertainment', 'politics', 'business', 'politics'],\n",
       "      dtype='<U13')"
      ]
     },
     "execution_count": 19,
     "metadata": {},
     "output_type": "execute_result"
    }
   ],
   "source": [
    "y_prdict"
   ]
  },
  {
   "cell_type": "code",
   "execution_count": 20,
   "id": "6a321c0a",
   "metadata": {},
   "outputs": [
    {
     "data": {
      "text/html": [
       "<div>\n",
       "<style scoped>\n",
       "    .dataframe tbody tr th:only-of-type {\n",
       "        vertical-align: middle;\n",
       "    }\n",
       "\n",
       "    .dataframe tbody tr th {\n",
       "        vertical-align: top;\n",
       "    }\n",
       "\n",
       "    .dataframe thead th {\n",
       "        text-align: right;\n",
       "    }\n",
       "</style>\n",
       "<table border=\"1\" class=\"dataframe\">\n",
       "  <thead>\n",
       "    <tr style=\"text-align: right;\">\n",
       "      <th></th>\n",
       "      <th>ArticleId</th>\n",
       "      <th>Category</th>\n",
       "    </tr>\n",
       "  </thead>\n",
       "  <tbody>\n",
       "    <tr>\n",
       "      <th>0</th>\n",
       "      <td>1018</td>\n",
       "      <td>sport</td>\n",
       "    </tr>\n",
       "    <tr>\n",
       "      <th>1</th>\n",
       "      <td>1319</td>\n",
       "      <td>tech</td>\n",
       "    </tr>\n",
       "    <tr>\n",
       "      <th>2</th>\n",
       "      <td>1138</td>\n",
       "      <td>sport</td>\n",
       "    </tr>\n",
       "    <tr>\n",
       "      <th>3</th>\n",
       "      <td>459</td>\n",
       "      <td>business</td>\n",
       "    </tr>\n",
       "    <tr>\n",
       "      <th>4</th>\n",
       "      <td>1020</td>\n",
       "      <td>sport</td>\n",
       "    </tr>\n",
       "    <tr>\n",
       "      <th>5</th>\n",
       "      <td>51</td>\n",
       "      <td>sport</td>\n",
       "    </tr>\n",
       "    <tr>\n",
       "      <th>6</th>\n",
       "      <td>2025</td>\n",
       "      <td>politics</td>\n",
       "    </tr>\n",
       "    <tr>\n",
       "      <th>7</th>\n",
       "      <td>1479</td>\n",
       "      <td>politics</td>\n",
       "    </tr>\n",
       "    <tr>\n",
       "      <th>8</th>\n",
       "      <td>27</td>\n",
       "      <td>entertainment</td>\n",
       "    </tr>\n",
       "    <tr>\n",
       "      <th>9</th>\n",
       "      <td>397</td>\n",
       "      <td>business</td>\n",
       "    </tr>\n",
       "    <tr>\n",
       "      <th>10</th>\n",
       "      <td>1644</td>\n",
       "      <td>business</td>\n",
       "    </tr>\n",
       "    <tr>\n",
       "      <th>11</th>\n",
       "      <td>263</td>\n",
       "      <td>tech</td>\n",
       "    </tr>\n",
       "    <tr>\n",
       "      <th>12</th>\n",
       "      <td>765</td>\n",
       "      <td>politics</td>\n",
       "    </tr>\n",
       "    <tr>\n",
       "      <th>13</th>\n",
       "      <td>2134</td>\n",
       "      <td>tech</td>\n",
       "    </tr>\n",
       "    <tr>\n",
       "      <th>14</th>\n",
       "      <td>297</td>\n",
       "      <td>entertainment</td>\n",
       "    </tr>\n",
       "    <tr>\n",
       "      <th>15</th>\n",
       "      <td>1712</td>\n",
       "      <td>sport</td>\n",
       "    </tr>\n",
       "    <tr>\n",
       "      <th>16</th>\n",
       "      <td>1631</td>\n",
       "      <td>politics</td>\n",
       "    </tr>\n",
       "    <tr>\n",
       "      <th>17</th>\n",
       "      <td>942</td>\n",
       "      <td>tech</td>\n",
       "    </tr>\n",
       "    <tr>\n",
       "      <th>18</th>\n",
       "      <td>1549</td>\n",
       "      <td>entertainment</td>\n",
       "    </tr>\n",
       "    <tr>\n",
       "      <th>19</th>\n",
       "      <td>516</td>\n",
       "      <td>politics</td>\n",
       "    </tr>\n",
       "  </tbody>\n",
       "</table>\n",
       "</div>"
      ],
      "text/plain": [
       "    ArticleId       Category\n",
       "0        1018          sport\n",
       "1        1319           tech\n",
       "2        1138          sport\n",
       "3         459       business\n",
       "4        1020          sport\n",
       "5          51          sport\n",
       "6        2025       politics\n",
       "7        1479       politics\n",
       "8          27  entertainment\n",
       "9         397       business\n",
       "10       1644       business\n",
       "11        263           tech\n",
       "12        765       politics\n",
       "13       2134           tech\n",
       "14        297  entertainment\n",
       "15       1712          sport\n",
       "16       1631       politics\n",
       "17        942           tech\n",
       "18       1549  entertainment\n",
       "19        516       politics"
      ]
     },
     "execution_count": 20,
     "metadata": {},
     "output_type": "execute_result"
    }
   ],
   "source": [
    "#submission = pd.DataFrame(test_id)\n",
    "submission = pd.DataFrame(list(zip(test_id, y_prdict)),\n",
    "               columns =['ArticleId', 'Category'])\n",
    "submission.head(20)"
   ]
  },
  {
   "cell_type": "code",
   "execution_count": 21,
   "id": "2568f544",
   "metadata": {},
   "outputs": [],
   "source": [
    "submission.to_csv('submission.csv', index=False)\n"
   ]
  }
 ],
 "metadata": {
  "kernelspec": {
   "display_name": "Python 3 (ipykernel)",
   "language": "python",
   "name": "python3"
  },
  "language_info": {
   "codemirror_mode": {
    "name": "ipython",
    "version": 3
   },
   "file_extension": ".py",
   "mimetype": "text/x-python",
   "name": "python",
   "nbconvert_exporter": "python",
   "pygments_lexer": "ipython3",
   "version": "3.9.13"
  }
 },
 "nbformat": 4,
 "nbformat_minor": 5
}
